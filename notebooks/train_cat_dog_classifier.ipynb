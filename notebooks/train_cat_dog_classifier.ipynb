{
 "cells": [
  {
   "cell_type": "code",
   "execution_count": null,
   "metadata": {
    "id": "fQdc4OttECWd"
   },
   "outputs": [],
   "source": [
    "import torch\n",
    "import torch.nn as nn\n",
    "import torch.optim as optim\n",
    "from torchvision import datasets, transforms, models\n",
    "from torch.utils.data import DataLoader\n",
    "from torchvision.models import ResNet50_Weights\n",
    "from google.colab import drive\n"
   ]
  },
  {
   "cell_type": "code",
   "execution_count": null,
   "metadata": {
    "colab": {
     "base_uri": "https://localhost:8080/"
    },
    "id": "iGY-iGx4EeI_",
    "outputId": "2397b2d7-3229-42af-b45a-93f4af208e9a"
   },
   "outputs": [
    {
     "name": "stdout",
     "output_type": "stream",
     "text": [
      "Mounted at /content/drive\n"
     ]
    }
   ],
   "source": [
    "drive.mount('/content/drive')"
   ]
  },
  {
   "cell_type": "code",
   "execution_count": null,
   "metadata": {
    "id": "v9wFpYbHExXd"
   },
   "outputs": [],
   "source": [
    "dataset_dir = \"/content/drive/MyDrive/Dataset\"  \n",
    "train_dir = f\"{dataset_dir}/train\"\n",
    "val_dir = f\"{dataset_dir}/val\"\n",
    "test_dir = f\"{dataset_dir}/test\"\n"
   ]
  },
  {
   "cell_type": "code",
   "execution_count": null,
   "metadata": {
    "colab": {
     "base_uri": "https://localhost:8080/"
    },
    "id": "3c9OgvE4Eygp",
    "outputId": "472a05a5-5d6d-4bd7-f9f1-a3034278897d"
   },
   "outputs": [
    {
     "name": "stdout",
     "output_type": "stream",
     "text": [
      "Using device: cuda\n"
     ]
    }
   ],
   "source": [
    "device = torch.device(\"cuda\" if torch.cuda.is_available() else \"cpu\")\n",
    "print(f\"Using device: {device}\")"
   ]
  },
  {
   "cell_type": "code",
   "execution_count": null,
   "metadata": {
    "id": "yuLC2DIgFK6T"
   },
   "outputs": [],
   "source": [
    "transform = {\n",
    "    \"train\": transforms.Compose([\n",
    "        transforms.Resize((224, 224)),\n",
    "        transforms.RandomHorizontalFlip(),\n",
    "        transforms.ToTensor(),\n",
    "        transforms.Normalize(mean=[0.485, 0.456, 0.406], std=[0.229, 0.224, 0.225]),\n",
    "    ]),\n",
    "    \"val\": transforms.Compose([\n",
    "        transforms.Resize((224, 224)),\n",
    "        transforms.ToTensor(),\n",
    "        transforms.Normalize(mean=[0.485, 0.456, 0.406], std=[0.229, 0.224, 0.225]),\n",
    "    ]),\n",
    "    \"test\": transforms.Compose([\n",
    "        transforms.Resize((224, 224)),\n",
    "        transforms.ToTensor(),\n",
    "        transforms.Normalize(mean=[0.485, 0.456, 0.406], std=[0.229, 0.224, 0.225]),\n",
    "    ]),\n",
    "}"
   ]
  },
  {
   "cell_type": "code",
   "execution_count": null,
   "metadata": {
    "id": "x72FITLAFNl8"
   },
   "outputs": [],
   "source": [
    "train_dataset = datasets.ImageFolder(train_dir, transform=transform[\"train\"])\n",
    "val_dataset = datasets.ImageFolder(val_dir, transform=transform[\"val\"])\n",
    "test_dataset = datasets.ImageFolder(test_dir, transform=transform[\"test\"])\n"
   ]
  },
  {
   "cell_type": "code",
   "execution_count": null,
   "metadata": {
    "id": "LYzeW-zgGxBu"
   },
   "outputs": [],
   "source": [
    "batch_size = 128  # Optimized for A100(i was using Colab)\n",
    "num_workers = 8  \n",
    "train_loader = DataLoader(train_dataset, batch_size=batch_size, shuffle=True, num_workers=num_workers, pin_memory=True, prefetch_factor=2)\n",
    "val_loader = DataLoader(val_dataset, batch_size=batch_size, shuffle=False, num_workers=num_workers, pin_memory=True, prefetch_factor=2)\n",
    "test_loader = DataLoader(test_dataset, batch_size=batch_size, shuffle=False, num_workers=num_workers, pin_memory=True, prefetch_factor=2)"
   ]
  },
  {
   "cell_type": "code",
   "execution_count": null,
   "metadata": {
    "colab": {
     "base_uri": "https://localhost:8080/"
    },
    "id": "nBtzswztGx3G",
    "outputId": "9ebf1bfb-a996-484a-f4db-1f0f597d63dc"
   },
   "outputs": [
    {
     "name": "stderr",
     "output_type": "stream",
     "text": [
      "Downloading: \"https://download.pytorch.org/models/resnet50-11ad3fa6.pth\" to /root/.cache/torch/hub/checkpoints/resnet50-11ad3fa6.pth\n",
      "100%|██████████| 97.8M/97.8M [00:00<00:00, 193MB/s]\n"
     ]
    }
   ],
   "source": [
    "model = models.resnet50(weights=ResNet50_Weights.DEFAULT)"
   ]
  },
  {
   "cell_type": "code",
   "execution_count": null,
   "metadata": {
    "id": "tLpsef96G0hm"
   },
   "outputs": [],
   "source": [
    "num_features = model.fc.in_features\n",
    "model.fc = nn.Linear(num_features, 2)\n",
    "model = model.to(device)"
   ]
  },
  {
   "cell_type": "code",
   "execution_count": null,
   "metadata": {
    "id": "c1nxqHDyG2yt"
   },
   "outputs": [],
   "source": [
    "criterion = nn.CrossEntropyLoss()\n",
    "optimizer = optim.Adam(model.parameters(), lr=0.001)\n",
    "scaler = torch.amp.GradScaler('cuda')\n"
   ]
  },
  {
   "cell_type": "code",
   "execution_count": null,
   "metadata": {
    "id": "pFxiMqP4G8Ku"
   },
   "outputs": [],
   "source": [
    "def train_model(model, criterion, optimizer, train_loader, val_loader, scaler, epochs=10):\n",
    "    best_val_acc = 0.0  # Track the best validation accuracy for model saving\n",
    "    for epoch in range(epochs):\n",
    "        print(f\"Epoch {epoch+1}/{epochs}\")\n",
    "        print(\"-\" * 20)\n",
    "\n",
    "        # Training Phase\n",
    "        model.train()\n",
    "        train_loss, correct = 0, 0\n",
    "        for inputs, labels in train_loader:\n",
    "            inputs, labels = inputs.to(device, non_blocking=True), labels.to(device, non_blocking=True)\n",
    "            optimizer.zero_grad()\n",
    "\n",
    "            # Mixed precision training\n",
    "            with torch.amp.autocast('cuda'):\n",
    "                outputs = model(inputs)\n",
    "                loss = criterion(outputs, labels)\n",
    "\n",
    "            scaler.scale(loss).backward()\n",
    "            scaler.step(optimizer)\n",
    "            scaler.update()\n",
    "\n",
    "            train_loss += loss.item()\n",
    "            _, preds = torch.max(outputs, 1)\n",
    "            correct += torch.sum(preds == labels.data)\n",
    "\n",
    "        epoch_train_loss = train_loss / len(train_loader)\n",
    "        epoch_train_acc = correct.double() / len(train_loader.dataset)\n",
    "        print(f\"Training Loss: {epoch_train_loss:.4f}, Accuracy: {epoch_train_acc:.4f}\")\n",
    "\n",
    "        # Validation Phase\n",
    "        model.eval()\n",
    "        val_loss, val_correct = 0, 0\n",
    "        with torch.no_grad():\n",
    "            for inputs, labels in val_loader:\n",
    "                inputs, labels = inputs.to(device, non_blocking=True), labels.to(device, non_blocking=True)\n",
    "                with torch.amp.autocast('cuda'):\n",
    "                    outputs = model(inputs)\n",
    "                    loss = criterion(outputs, labels)\n",
    "\n",
    "                val_loss += loss.item()\n",
    "                _, preds = torch.max(outputs, 1)\n",
    "                val_correct += torch.sum(preds == labels.data)\n",
    "\n",
    "        epoch_val_loss = val_loss / len(val_loader)\n",
    "        epoch_val_acc = val_correct.double() / len(val_loader.dataset)\n",
    "        print(f\"Validation Loss: {epoch_val_loss:.4f}, Accuracy: {epoch_val_acc:.4f}\")\n",
    "\n",
    "        # Save the best model\n",
    "        if epoch_val_acc > best_val_acc:\n",
    "            best_val_acc = epoch_val_acc\n",
    "            torch.save(model.state_dict(), \"catdog.pth\")\n",
    "            print(f\"Model saved with validation accuracy: {best_val_acc:.4f}\")\n"
   ]
  },
  {
   "cell_type": "code",
   "execution_count": null,
   "metadata": {
    "id": "k9NM1cpdHGHq"
   },
   "outputs": [],
   "source": [
    "def evaluate_model(model, test_loader):\n",
    "    model.eval()\n",
    "    test_correct = 0\n",
    "    with torch.no_grad():\n",
    "        for inputs, labels in test_loader:\n",
    "            inputs, labels = inputs.to(device), labels.to(device)\n",
    "            outputs = model(inputs)\n",
    "            _, preds = torch.max(outputs, 1)\n",
    "            test_correct += torch.sum(preds == labels.data)\n",
    "\n",
    "    test_accuracy = test_correct.double() / len(test_loader.dataset)\n",
    "    print(f\"Test Accuracy: {test_accuracy:.4f}\")"
   ]
  },
  {
   "cell_type": "code",
   "execution_count": null,
   "metadata": {
    "colab": {
     "base_uri": "https://localhost:8080/"
    },
    "id": "4-QA7kSoHJbr",
    "outputId": "3b030ec6-ecae-40d1-e68a-0745ca6cc353"
   },
   "outputs": [
    {
     "name": "stdout",
     "output_type": "stream",
     "text": [
      "Epoch 1/10\n",
      "--------------------\n",
      "Training Loss: 0.0923, Accuracy: 0.9665\n",
      "Validation Loss: 0.0643, Accuracy: 0.9752\n",
      "Model saved with validation accuracy: 0.9752\n",
      "Epoch 2/10\n",
      "--------------------\n",
      "Training Loss: 0.0493, Accuracy: 0.9822\n",
      "Validation Loss: 0.1291, Accuracy: 0.9495\n",
      "Epoch 3/10\n",
      "--------------------\n",
      "Training Loss: 0.0406, Accuracy: 0.9846\n",
      "Validation Loss: 0.0718, Accuracy: 0.9695\n",
      "Epoch 4/10\n",
      "--------------------\n",
      "Training Loss: 0.0372, Accuracy: 0.9861\n",
      "Validation Loss: 0.1055, Accuracy: 0.9575\n",
      "Epoch 5/10\n",
      "--------------------\n",
      "Training Loss: 0.0413, Accuracy: 0.9849\n",
      "Validation Loss: 0.0611, Accuracy: 0.9780\n",
      "Model saved with validation accuracy: 0.9780\n",
      "Epoch 6/10\n",
      "--------------------\n",
      "Training Loss: 0.0270, Accuracy: 0.9902\n",
      "Validation Loss: 0.0450, Accuracy: 0.9842\n",
      "Model saved with validation accuracy: 0.9842\n",
      "Epoch 7/10\n",
      "--------------------\n",
      "Training Loss: 0.0245, Accuracy: 0.9910\n",
      "Validation Loss: 0.0885, Accuracy: 0.9645\n",
      "Epoch 8/10\n",
      "--------------------\n",
      "Training Loss: 0.0277, Accuracy: 0.9898\n",
      "Validation Loss: 0.0515, Accuracy: 0.9822\n",
      "Epoch 9/10\n",
      "--------------------\n",
      "Training Loss: 0.0147, Accuracy: 0.9952\n",
      "Validation Loss: 0.1033, Accuracy: 0.9700\n",
      "Epoch 10/10\n",
      "--------------------\n",
      "Training Loss: 0.0330, Accuracy: 0.9881\n",
      "Validation Loss: 0.1032, Accuracy: 0.9677\n"
     ]
    }
   ],
   "source": [
    "train_model(model, criterion, optimizer, train_loader, val_loader, scaler, epochs=10)\n",
    "\n"
   ]
  },
  {
   "cell_type": "code",
   "execution_count": null,
   "metadata": {
    "colab": {
     "base_uri": "https://localhost:8080/"
    },
    "id": "T-5HgcanjEEd",
    "outputId": "8d5c0481-edaa-4c2b-af1f-4b735bf97850"
   },
   "outputs": [
    {
     "name": "stdout",
     "output_type": "stream",
     "text": [
      "Evaluating the best model on test set...\n"
     ]
    },
    {
     "name": "stderr",
     "output_type": "stream",
     "text": [
      "<ipython-input-14-2972772934d9>:2: FutureWarning: You are using `torch.load` with `weights_only=False` (the current default value), which uses the default pickle module implicitly. It is possible to construct malicious pickle data which will execute arbitrary code during unpickling (See https://github.com/pytorch/pytorch/blob/main/SECURITY.md#untrusted-models for more details). In a future release, the default value for `weights_only` will be flipped to `True`. This limits the functions that could be executed during unpickling. Arbitrary objects will no longer be allowed to be loaded via this mode unless they are explicitly allowlisted by the user via `torch.serialization.add_safe_globals`. We recommend you start setting `weights_only=True` for any use case where you don't have full control of the loaded file. Please open an issue on GitHub for any issues related to this experimental feature.\n",
      "  model.load_state_dict(torch.load(\"/content/catdog.pth\"))\n",
      "/usr/local/lib/python3.10/dist-packages/PIL/TiffImagePlugin.py:935: UserWarning: Truncated File Read\n",
      "  warnings.warn(str(msg))\n"
     ]
    },
    {
     "name": "stdout",
     "output_type": "stream",
     "text": [
      "Test Accuracy: 0.9858\n"
     ]
    }
   ],
   "source": [
    "print(\"Evaluating the best model on test set...\")\n",
    "model.load_state_dict(torch.load(\"/content/catdog.pth\"))\n",
    "evaluate_model(model, test_loader)"
   ]
  }
 ],
 "metadata": {
  "accelerator": "GPU",
  "colab": {
   "gpuType": "A100",
   "machine_shape": "hm",
   "provenance": []
  },
  "kernelspec": {
   "display_name": "Python 3",
   "name": "python3"
  },
  "language_info": {
   "name": "python"
  }
 },
 "nbformat": 4,
 "nbformat_minor": 0
}
